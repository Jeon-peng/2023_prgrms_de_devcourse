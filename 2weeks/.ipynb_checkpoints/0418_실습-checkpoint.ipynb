{
 "cells": [
  {
   "cell_type": "code",
   "execution_count": null,
   "id": "ce249bc2-cb1b-46be-9cbb-1ce988c6d82d",
   "metadata": {},
   "outputs": [],
   "source": [
    "\n",
    "\n",
    "\n"
   ]
  },
  {
   "cell_type": "code",
   "execution_count": null,
   "id": "819fd259-2964-44a8-ba44-8f21096f4ec7",
   "metadata": {},
   "outputs": [],
   "source": []
  },
  {
   "cell_type": "code",
   "execution_count": null,
   "id": "110538ff-c00a-40b7-9300-c2ade72b8b29",
   "metadata": {},
   "outputs": [],
   "source": []
  },
  {
   "cell_type": "code",
   "execution_count": null,
   "id": "b2789c9b-01b9-49a7-9d9d-1f0a0805a111",
   "metadata": {},
   "outputs": [],
   "source": []
  },
  {
   "cell_type": "code",
   "execution_count": null,
   "id": "ea6b1c8f-3de2-4a77-bd5c-d0a73d6c3ac7",
   "metadata": {},
   "outputs": [],
   "source": []
  },
  {
   "cell_type": "code",
   "execution_count": null,
   "id": "206f0dfa-9a81-4053-a2ba-8d75b046aed1",
   "metadata": {},
   "outputs": [],
   "source": []
  },
  {
   "cell_type": "code",
   "execution_count": 4,
   "id": "bf926c21-6b7a-4eff-b847-f391e422ed3f",
   "metadata": {},
   "outputs": [
    {
     "name": "stdout",
     "output_type": "stream",
     "text": [
      "Requirement already satisfied: requests in /Users/jeonseonghyeon/opt/anaconda3/lib/python3.9/site-packages (2.27.1)\n",
      "Requirement already satisfied: urllib3<1.27,>=1.21.1 in /Users/jeonseonghyeon/opt/anaconda3/lib/python3.9/site-packages (from requests) (1.26.9)\n",
      "Requirement already satisfied: idna<4,>=2.5 in /Users/jeonseonghyeon/opt/anaconda3/lib/python3.9/site-packages (from requests) (3.3)\n",
      "Requirement already satisfied: certifi>=2017.4.17 in /Users/jeonseonghyeon/opt/anaconda3/lib/python3.9/site-packages (from requests) (2021.10.8)\n",
      "Requirement already satisfied: charset-normalizer~=2.0.0 in /Users/jeonseonghyeon/opt/anaconda3/lib/python3.9/site-packages (from requests) (2.0.4)\n",
      "Note: you may need to restart the kernel to use updated packages.\n"
     ]
    }
   ],
   "source": [
    "%pip install requests"
   ]
  },
  {
   "cell_type": "code",
   "execution_count": 5,
   "id": "b43f07b1-63da-4d72-b879-19479ed55c92",
   "metadata": {},
   "outputs": [
    {
     "name": "stdout",
     "output_type": "stream",
     "text": [
      "Requirement already satisfied: requests in /Users/jeonseonghyeon/opt/anaconda3/lib/python3.9/site-packages (2.27.1)\n",
      "Requirement already satisfied: urllib3<1.27,>=1.21.1 in /Users/jeonseonghyeon/opt/anaconda3/lib/python3.9/site-packages (from requests) (1.26.9)\n",
      "Requirement already satisfied: certifi>=2017.4.17 in /Users/jeonseonghyeon/opt/anaconda3/lib/python3.9/site-packages (from requests) (2021.10.8)\n",
      "Requirement already satisfied: idna<4,>=2.5 in /Users/jeonseonghyeon/opt/anaconda3/lib/python3.9/site-packages (from requests) (3.3)\n",
      "Requirement already satisfied: charset-normalizer~=2.0.0 in /Users/jeonseonghyeon/opt/anaconda3/lib/python3.9/site-packages (from requests) (2.0.4)\n"
     ]
    }
   ],
   "source": [
    "!pip install requests"
   ]
  },
  {
   "cell_type": "code",
   "execution_count": null,
   "id": "d1dce81b-aa64-4152-973f-c92ec3e1b847",
   "metadata": {},
   "outputs": [],
   "source": []
  },
  {
   "cell_type": "markdown",
   "id": "232be414-7ffc-4feb-86df-a678f1daa4e9",
   "metadata": {},
   "source": [
    "## 정보를 달라고 요청하기, GET"
   ]
  },
  {
   "cell_type": "code",
   "execution_count": 11,
   "id": "80defa11-7329-49e9-9807-04bb639c573d",
   "metadata": {},
   "outputs": [
    {
     "data": {
      "text/plain": [
       "<Response [200]>"
      ]
     },
     "execution_count": 11,
     "metadata": {},
     "output_type": "execute_result"
    }
   ],
   "source": [
    "# requests 라이브러리를 불러온 후, NAVER의 홈 페이지를 요청한 후 응답 받아보기\n",
    "\n",
    "import requests\n",
    "res = requests.get(\"https://www.naver.com\")\n",
    "\n",
    "res"
   ]
  },
  {
   "cell_type": "code",
   "execution_count": 14,
   "id": "76e2b594-8147-4b54-aaae-779d9ba57389",
   "metadata": {},
   "outputs": [
    {
     "data": {
      "text/plain": [
       "{'Server': 'NWS', 'Date': 'Tue, 18 Apr 2023 04:55:15 GMT', 'Content-Type': 'text/html; charset=UTF-8', 'Transfer-Encoding': 'chunked', 'Connection': 'keep-alive', 'Set-Cookie': 'PM_CK_loc=5434ae02a65bdd968a0a057eaf7af9c6aa7cc1621bcdd466e8a96a03b90074db; Expires=Wed, 19 Apr 2023 04:55:15 GMT; Path=/; HttpOnly', 'Cache-Control': 'no-cache, no-store, must-revalidate', 'Pragma': 'no-cache', 'P3P': 'CP=\"CAO DSP CURa ADMa TAIa PSAa OUR LAW STP PHY ONL UNI PUR FIN COM NAV INT DEM STA PRE\"', 'X-Frame-Options': 'DENY', 'X-XSS-Protection': '1; mode=block', 'Content-Encoding': 'gzip', 'Strict-Transport-Security': 'max-age=63072000; includeSubdomains', 'Referrer-Policy': 'unsafe-url'}"
      ]
     },
     "execution_count": 14,
     "metadata": {},
     "output_type": "execute_result"
    }
   ],
   "source": [
    "# Header를 확인해봅시다 : .headers\n",
    "\n",
    "res.headers\n",
    "# requests.get(\"https://www.naver.com\").headers"
   ]
  },
  {
   "cell_type": "code",
   "execution_count": 18,
   "id": "03f3b23b-81a2-4e14-8228-5740b7654a27",
   "metadata": {},
   "outputs": [
    {
     "data": {
      "text/plain": [
       "'\\n<!doctype html>                          <html lang=\"ko\" data-dark=\"false\"> <head> <meta charset=\"utf-8\"> <title>NAVER</title> <meta http-equiv=\"X-UA-Compatible\" content=\"IE=edge\"> <meta name=\"viewport\" content=\"width=1190\"> <meta name=\"apple-mobile-web-app-title\" content=\"NAVER\"/> <meta name=\"robots\" content=\"index,nofollow\"/> <meta name=\"description\" content=\"네이버 메인에서 다양한 정보와 유용한 컨텐츠를 만나 보세요\"/> <meta property=\"og:title\" content=\"네이버\"> <meta property=\"og:url\" content=\"https://www.naver.com/\"> <meta property=\"og:image\" content=\"https://s.pstatic.net/static/www/mobile/edit/2016/0705/mobile_212852414260.png\"> <meta property=\"og:description\" content=\"네이버 메인에서 다양한 정보와 유용한 컨텐츠를 만나 보세요\"/> <meta name=\"twitter:card\" content=\"summary\"> <meta name=\"twitter:title\" content=\"\"> <meta name=\"twitter:url\" content=\"https://www.naver.com/\"> <meta name=\"twitter:image\" content=\"https://s.pstatic.net/static/www/mobile/edit/2016/0705/mobile_212852414260.png\"> <meta name=\"twitter:description\" content=\"네이버 메'"
      ]
     },
     "execution_count": 18,
     "metadata": {},
     "output_type": "execute_result"
    }
   ],
   "source": [
    "# Body를 텍스트 형태로 확인해봅시다 : .text\n",
    "\n",
    "res.text[:1000]"
   ]
  },
  {
   "cell_type": "code",
   "execution_count": null,
   "id": "6053c7c2-d5c0-4f56-a8c8-1f1a9b6a106e",
   "metadata": {},
   "outputs": [],
   "source": []
  },
  {
   "cell_type": "code",
   "execution_count": null,
   "id": "a64d958b-17bd-4ccb-a25c-95feb262154e",
   "metadata": {},
   "outputs": [],
   "source": []
  },
  {
   "cell_type": "markdown",
   "id": "337b91b1-f9af-48fe-92ae-7939372c9e79",
   "metadata": {},
   "source": [
    "## 정보 갱신하는 것을 요청하기, POST\n",
    "\n",
    "그렇다면 이렇게 항상 정보를 가져오는 경우만 있을까?\n",
    "\n",
    "아니다. 우리는 우리의 정보를 제공해주면서 서보러 하여금 무언가 요청을 진행할 때도 있습니다.\n",
    "우리가 매일 진행하는 로그인이 바로 그 예시다.\n",
    "\n",
    "이러한 요청을 처리하는 HTTP Method가 있는데, 바로 POST입니다.\n",
    "\n",
    "POST를 활용하기 위해 다음 사이트를 이용해보도록 하겠습니다 : https://webhook.site"
   ]
  },
  {
   "cell_type": "code",
   "execution_count": 40,
   "id": "c8b7193b-7612-4330-a5ca-c450904926ed",
   "metadata": {},
   "outputs": [],
   "source": [
    "# payload와 함께 POST를 보내봅시다 : requests.post()\n",
    "payload = {\"name\" : \"Hello\", \"age\" : 13 }\n",
    "\n",
    "\n",
    "res = requests.post(\"https://webhook.site/f3250622-dd6a-4d9c-9043-0560a790a2f2\",payload)"
   ]
  },
  {
   "cell_type": "markdown",
   "id": "3e9e6ec6-a926-4084-994d-9617df40a497",
   "metadata": {},
   "source": [
    "응답의 상태 코드를 통해 응답이 잘 왔는지 확인해보자"
   ]
  },
  {
   "cell_type": "code",
   "execution_count": 24,
   "id": "8aeb7c0e-518f-4147-a795-816f3d9f1b71",
   "metadata": {},
   "outputs": [],
   "source": [
    "# 상태 코드(status code)를 확인해봅시다 : .status_code"
   ]
  },
  {
   "cell_type": "code",
   "execution_count": 25,
   "id": "8a284820-fdf3-4db3-a1ef-c1907bd41d2b",
   "metadata": {},
   "outputs": [
    {
     "data": {
      "text/plain": [
       "200"
      ]
     },
     "execution_count": 25,
     "metadata": {},
     "output_type": "execute_result"
    }
   ],
   "source": [
    "res.status_code"
   ]
  },
  {
   "cell_type": "code",
   "execution_count": 41,
   "id": "e595bca9-cd01-451b-8bb2-7226b70abb1e",
   "metadata": {},
   "outputs": [
    {
     "data": {
      "text/plain": [
       "<Response [200]>"
      ]
     },
     "execution_count": 41,
     "metadata": {},
     "output_type": "execute_result"
    }
   ],
   "source": [
    "res"
   ]
  },
  {
   "cell_type": "code",
   "execution_count": null,
   "id": "7d801eb0-de71-4d54-9832-e784aa61ce3f",
   "metadata": {},
   "outputs": [],
   "source": []
  },
  {
   "cell_type": "code",
   "execution_count": null,
   "id": "abf05031-5cd7-41fa-b084-f3a6862b353c",
   "metadata": {},
   "outputs": [],
   "source": []
  },
  {
   "cell_type": "code",
   "execution_count": null,
   "id": "39952e17-3592-4144-b666-5490a009505b",
   "metadata": {},
   "outputs": [],
   "source": []
  },
  {
   "cell_type": "code",
   "execution_count": null,
   "id": "2db12103-ab4e-45c4-bec5-b64a675e8afd",
   "metadata": {},
   "outputs": [],
   "source": []
  }
 ],
 "metadata": {
  "kernelspec": {
   "display_name": "Python 3 (ipykernel)",
   "language": "python",
   "name": "python3"
  },
  "language_info": {
   "codemirror_mode": {
    "name": "ipython",
    "version": 3
   },
   "file_extension": ".py",
   "mimetype": "text/x-python",
   "name": "python",
   "nbconvert_exporter": "python",
   "pygments_lexer": "ipython3",
   "version": "3.9.12"
  }
 },
 "nbformat": 4,
 "nbformat_minor": 5
}
