{
 "cells": [
  {
   "cell_type": "code",
   "execution_count": null,
   "id": "02de314d-bde0-4e3e-a7a1-61c56f988a09",
   "metadata": {},
   "outputs": [],
   "source": []
  },
  {
   "cell_type": "code",
   "execution_count": null,
   "id": "6f4df62c-31e2-4eac-84e0-5cdf08eb252b",
   "metadata": {},
   "outputs": [],
   "source": []
  },
  {
   "cell_type": "code",
   "execution_count": null,
   "id": "bbae3d17-ee93-4b3a-b7ca-2f8fca5dacdf",
   "metadata": {},
   "outputs": [],
   "source": []
  },
  {
   "cell_type": "code",
   "execution_count": null,
   "id": "0c112974-b215-462e-b9ca-7b32cf697bdb",
   "metadata": {},
   "outputs": [],
   "source": []
  },
  {
   "cell_type": "code",
   "execution_count": null,
   "id": "94887941-87d5-483b-8d4f-9c0f364cabbe",
   "metadata": {},
   "outputs": [],
   "source": []
  },
  {
   "cell_type": "code",
   "execution_count": null,
   "id": "eece966c-4a34-47ec-8fef-622475e09c34",
   "metadata": {},
   "outputs": [],
   "source": []
  },
  {
   "cell_type": "code",
   "execution_count": null,
   "id": "0c1f96a0-e2bc-4382-b644-6e5eba89c9d2",
   "metadata": {},
   "outputs": [],
   "source": []
  },
  {
   "cell_type": "code",
   "execution_count": null,
   "id": "b1160e77-67c2-4da6-bd98-f2464713c4cf",
   "metadata": {},
   "outputs": [],
   "source": []
  },
  {
   "cell_type": "code",
   "execution_count": null,
   "id": "fb1306c9-6da3-45fe-bb01-bb5914209866",
   "metadata": {},
   "outputs": [],
   "source": []
  },
  {
   "cell_type": "code",
   "execution_count": null,
   "id": "d0edb950-f913-4eb3-a5f0-3340e35b2c23",
   "metadata": {},
   "outputs": [],
   "source": []
  },
  {
   "cell_type": "markdown",
   "id": "772532ae-9a99-4a40-9bb2-dc840ff3cb2f",
   "metadata": {},
   "source": [
    "## 4-2 스크래핑 결과 시각화하기 - 기상청 날씨 정보 조회"
   ]
  },
  {
   "cell_type": "code",
   "execution_count": null,
   "id": "280da2bc-25ed-4bd1-a29a-8e45bab68aea",
   "metadata": {},
   "outputs": [],
   "source": []
  }
 ],
 "metadata": {
  "kernelspec": {
   "display_name": "Python 3 (ipykernel)",
   "language": "python",
   "name": "python3"
  },
  "language_info": {
   "codemirror_mode": {
    "name": "ipython",
    "version": 3
   },
   "file_extension": ".py",
   "mimetype": "text/x-python",
   "name": "python",
   "nbconvert_exporter": "python",
   "pygments_lexer": "ipython3",
   "version": "3.9.12"
  }
 },
 "nbformat": 4,
 "nbformat_minor": 5
}
