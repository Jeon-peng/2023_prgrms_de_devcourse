{
 "cells": [
  {
   "cell_type": "markdown",
   "id": "192778f5-b6a0-458f-9d28-2ecd531975a1",
   "metadata": {},
   "source": [
    "## 4-2. 스크래핑 결과 시각화하기 I - 기상청 날씨 정보 조회\n",
    "\n",
    "- Selenium과 Seaborn을 이용해서 날씨 정보를 가져온 후 Lineplot을 그려봅시다."
   ]
  },
  {
   "cell_type": "markdown",
   "id": "21cda704-06c6-4de4-83a7-f77fbeec5728",
   "metadata": {},
   "source": [
    "### Target: 기상청 날씨 스크래핑하기\n",
    "\n",
    "다음 사이트에 Selenium을 이용해서 날씨 정보를 가져와봅시다. : https://www.weather.go.kr/w/weather/forecast/short-term.do"
   ]
  },
  {
   "cell_type": "code",
   "execution_count": 2,
   "id": "e1e6514c",
   "metadata": {},
   "outputs": [],
   "source": [
    "# 스크래핑에 필요한 라이브러리를 불러와봅시다.\n",
    "\n",
    "from selenium import webdriver\n",
    "from selenium.webdriver import ActionChains\n",
    "from webdriver_manager.chrome import ChromeDriverManager\n",
    "from selenium.webdriver.common.actions.action_builder import ActionBuilder\n",
    "from selenium.webdriver import Keys, ActionChains\n",
    "from selenium.webdriver.chrome.service import Service\n",
    "from selenium.webdriver.common.by import By"
   ]
  },
  {
   "cell_type": "markdown",
   "id": "bd22b243-a896-451f-8c89-0423400e5923",
   "metadata": {},
   "source": [
    "지난 실습에서 다룬 마우스 실습을 통해 로그인 창에 접속하는 것에 성공했는데요,  \n",
    "여기에 이제 키보드 입력을 넣어서 로그인을 완료해봅시다."
   ]
  },
  {
   "cell_type": "code",
   "execution_count": 8,
   "id": "80b21410-4429-470b-b7ab-a632cae667e6",
   "metadata": {},
   "outputs": [
    {
     "name": "stdout",
     "output_type": "stream",
     "text": [
      "['21℃', '21℃', '21℃', '21℃', '19℃', '18℃', '16℃', '15℃', '14℃', '14℃', '13℃', '12℃', '12℃', '11℃', '11℃', '10℃', '10℃', '12℃']\n"
     ]
    }
   ],
   "source": [
    "# driver를 이용해 기상청 날씨 데이터를 가져와봅시다.\n",
    "import time\n",
    "driver = webdriver.Chrome(service = Service(ChromeDriverManager().install()))\n",
    "driver.get(\"https://www.weather.go.kr/w/weather/forecast/short-term.do\")\n",
    "driver.implicitly_wait(20)\n",
    "time.sleep(0.5)\n",
    "temps = driver.find_element(By.ID, \"my-tchart\").text\n",
    "\n",
    "print(temps.split('\\n'))\n"
   ]
  },
  {
   "cell_type": "code",
   "execution_count": 12,
   "id": "8fb0e5f8-7965-4e25-a78b-adacbcd34f79",
   "metadata": {},
   "outputs": [],
   "source": [
    "temps = [int(i) for i in temps.replace('℃','').split('\\n')]"
   ]
  },
  {
   "cell_type": "code",
   "execution_count": 13,
   "id": "33fe3bc1-988c-4301-98f5-3ec25b7f065b",
   "metadata": {},
   "outputs": [
    {
     "data": {
      "text/plain": [
       "<AxesSubplot:>"
      ]
     },
     "execution_count": 13,
     "metadata": {},
     "output_type": "execute_result"
    },
    {
     "data": {
      "image/png": "[encoded data removed]",
      "text/plain": [
       "<Figure size 432x288 with 1 Axes>"
      ]
     },
     "metadata": {
      "needs_background": "light"
     },
     "output_type": "display_data"
    }
   ],
   "source": [
    "import seaborn as sns\n",
    "\n",
    "sns.lineplot(\n",
    "    x = [i for i in range(len(temps))],\n",
    "    y = temps\n",
    "    \n",
    ")"
   ]
  },
  {
   "cell_type": "markdown",
   "id": "f1aa36a0-b2f1-4926-8cff-efcedcfe71f7",
   "metadata": {},
   "source": [
    "**꺾은선 그래프(Line Plot)** 을 이용해 앞으로의 기온의 추이를 나타내봅시다.\n"
   ]
  },
  {
   "cell_type": "code",
   "execution_count": null,
   "id": "d4725a1c-07e9-4e06-aa1f-bde1d8d006f5",
   "metadata": {},
   "outputs": [],
   "source": [
    "# 받아온 데이터를 통해 꺾은선 그래프를 그려봅시다.\n",
    "# x = Elapsed Time(0~len(temperatures)\n",
    "# y = temperatures\n",
    "\n"
   ]
  },
  {
   "cell_type": "code",
   "execution_count": 14,
   "id": "ad88707c-dcf9-4e63-bb8e-6bdc90cf6e31",
   "metadata": {},
   "outputs": [
    {
     "data": {
      "text/plain": [
       "<AxesSubplot:>"
      ]
     },
     "execution_count": 14,
     "metadata": {},
     "output_type": "execute_result"
    },
    {
     "data": {
      "image/png": "[encoded data removed]",
      "text/plain": [
       "<Figure size 432x288 with 1 Axes>"
      ]
     },
     "metadata": {
      "needs_background": "light"
     },
     "output_type": "display_data"
    }
   ],
   "source": [
    "import matplotlib.pyplot as plt\n",
    "\n",
    "plt.ylim(min(temps)-2, max(temps) + 2)\n",
    "\n",
    "sns.lineplot(\n",
    "    x = [i for i in range(len(temps))],\n",
    "    y = temps\n",
    "    \n",
    ")"
   ]
  },
  {
   "cell_type": "code",
   "execution_count": null,
   "id": "714f0a8a-8f19-4dd1-a931-15723bc4799d",
   "metadata": {},
   "outputs": [],
   "source": []
  },
  {
   "cell_type": "code",
   "execution_count": null,
   "id": "bd6ac8f8-d0fd-4060-89d7-79b26ee0e6c8",
   "metadata": {},
   "outputs": [],
   "source": [
    "# 받아온 데이터를 통해 꺾은선 그래프를 그려봅시다.\n",
    "\n"
   ]
  }
 ],
 "metadata": {
  "kernelspec": {
   "display_name": "Python 3 (ipykernel)",
   "language": "python",
   "name": "python3"
  },
  "language_info": {
   "codemirror_mode": {
    "name": "ipython",
    "version": 3
   },
   "file_extension": ".py",
   "mimetype": "text/x-python",
   "name": "python",
   "nbconvert_exporter": "python",
   "pygments_lexer": "ipython3",
   "version": "3.9.12"
  }
 },
 "nbformat": 4,
 "nbformat_minor": 5
}
