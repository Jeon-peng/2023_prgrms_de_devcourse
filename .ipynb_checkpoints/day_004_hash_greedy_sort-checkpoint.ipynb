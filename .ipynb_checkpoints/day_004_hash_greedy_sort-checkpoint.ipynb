{
 "cells": [
  {
   "cell_type": "markdown",
   "id": "8c282998-ffb8-48b7-8ce6-0088dbc360b3",
   "metadata": {},
   "source": [
    "## Step 1-3: 풀어서 내걸로 만들자! \"완주하지 못한 선수\""
   ]
  },
  {
   "cell_type": "code",
   "execution_count": null,
   "id": "8d09fc90-ccd7-4689-9de8-d7c2ce1e8e49",
   "metadata": {},
   "outputs": [],
   "source": [
    "def solution(participant, completion):\n",
    "    d = {}\n",
    "    for x in participant :\n",
    "        d[x] = d.get(x, 0) + 1\n",
    "    for x in completion :\n",
    "        d[x] -= 1\n",
    "    dnf = [k for k,v in d.items() if v > 0]\n",
    "    answer = dnf[0]\n",
    "    return answer"
   ]
  },
  {
   "cell_type": "code",
   "execution_count": null,
   "id": "2d5455ec-2693-4a33-820e-5080d7a52650",
   "metadata": {},
   "outputs": [],
   "source": []
  },
  {
   "cell_type": "markdown",
   "id": "03a7b4d0-d446-4917-be53-146e13395620",
   "metadata": {},
   "source": [
    "## Step 2-3: 풀어서 내걸로 만들자! \"체육복\""
   ]
  },
  {
   "cell_type": "code",
   "execution_count": null,
   "id": "ed8232ab-bba1-4c81-a478-03d89cfc026f",
   "metadata": {},
   "outputs": [],
   "source": [
    "def solution(n, lost, reserve):\n",
    "    answer = 0\n",
    "    \n",
    "    # 1. 체육복을 잃어버렸지만 여분이 있는 사람 == 1\n",
    "    # 2. 체육복을 빌려야 하는 사람 == 0\n",
    "    # 3. 체육복을 빌려줄 수 있는 사람 == 2\n",
    "    \n",
    "    s = set(reserve) & set(lost)\n",
    "    l = set(lost) - s\n",
    "    r = set(reserve) - s\n",
    "    \n",
    "    for x in sorted(r) :\n",
    "        if x-1 in l :\n",
    "            l.remove(x-1)\n",
    "        elif x+1 in l :\n",
    "            l.remove(x+1)\n",
    "    \n",
    "    return n - len(l)"
   ]
  },
  {
   "cell_type": "code",
   "execution_count": null,
   "id": "c4eda34b-e204-41fb-8e4e-0479366ed0a6",
   "metadata": {},
   "outputs": [],
   "source": []
  },
  {
   "cell_type": "code",
   "execution_count": null,
   "id": "396cda32-00f6-425e-bfc7-64e9f1996ba2",
   "metadata": {},
   "outputs": [],
   "source": []
  },
  {
   "cell_type": "code",
   "execution_count": null,
   "id": "df5cd3ff-27d4-4d26-9680-77140938c0e7",
   "metadata": {},
   "outputs": [],
   "source": []
  }
 ],
 "metadata": {
  "kernelspec": {
   "display_name": "Python 3 (ipykernel)",
   "language": "python",
   "name": "python3"
  },
  "language_info": {
   "codemirror_mode": {
    "name": "ipython",
    "version": 3
   },
   "file_extension": ".py",
   "mimetype": "text/x-python",
   "name": "python",
   "nbconvert_exporter": "python",
   "pygments_lexer": "ipython3",
   "version": "3.9.12"
  }
 },
 "nbformat": 4,
 "nbformat_minor": 5
}
