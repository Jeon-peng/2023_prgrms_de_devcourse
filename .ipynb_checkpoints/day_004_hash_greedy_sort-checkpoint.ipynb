{
 "cells": [
  {
   "cell_type": "markdown",
   "id": "8c282998-ffb8-48b7-8ce6-0088dbc360b3",
   "metadata": {},
   "source": [
    "## Step 1-3: 풀어서 내걸로 만들자! \"완주하지 못한 선수\""
   ]
  },
  {
   "cell_type": "code",
   "execution_count": null,
   "id": "8d09fc90-ccd7-4689-9de8-d7c2ce1e8e49",
   "metadata": {},
   "outputs": [],
   "source": [
    "def solution(participant, completion):\n",
    "    d = {}\n",
    "    for x in participant :\n",
    "        d[x] = d.get(x, 0) + 1\n",
    "    for x in completion :\n",
    "        d[x] -= 1\n",
    "    dnf = [k for k,v in d.items() if v > 0]\n",
    "    answer = dnf[0]\n",
    "    return answer"
   ]
  },
  {
   "cell_type": "code",
   "execution_count": null,
   "id": "2d5455ec-2693-4a33-820e-5080d7a52650",
   "metadata": {},
   "outputs": [],
   "source": []
  },
  {
   "cell_type": "code",
   "execution_count": null,
   "id": "628a42a3-9c26-4919-aaaf-befa2ef23a1a",
   "metadata": {},
   "outputs": [],
   "source": []
  }
 ],
 "metadata": {
  "kernelspec": {
   "display_name": "Python 3 (ipykernel)",
   "language": "python",
   "name": "python3"
  },
  "language_info": {
   "codemirror_mode": {
    "name": "ipython",
    "version": 3
   },
   "file_extension": ".py",
   "mimetype": "text/x-python",
   "name": "python",
   "nbconvert_exporter": "python",
   "pygments_lexer": "ipython3",
   "version": "3.9.12"
  }
 },
 "nbformat": 4,
 "nbformat_minor": 5
}
