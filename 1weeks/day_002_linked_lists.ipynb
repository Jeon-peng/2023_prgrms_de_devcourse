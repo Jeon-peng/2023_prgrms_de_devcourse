{
 "cells": [
  {
   "cell_type": "code",
   "execution_count": 26,
   "id": "18a79ead-c7d3-4cb3-8bc5-7296c7627a58",
   "metadata": {},
   "outputs": [],
   "source": [
    "class Node:\n",
    "\n",
    "    def __init__(self, item):\n",
    "        self.data = item\n",
    "        self.next = None\n",
    "\n",
    "\n",
    "class LinkedList:\n",
    "\n",
    "    def __init__(self):\n",
    "        self.nodeCount = 0\n",
    "        self.head = None\n",
    "        self.tail = None\n",
    "\n",
    "\n",
    "    def __repr__(self):\n",
    "        if self.nodeCount == 0:\n",
    "            return 'LinkedList: empty'\n",
    "\n",
    "        s = ''\n",
    "        curr = self.head\n",
    "        while curr is not None:\n",
    "            s += repr(curr.data)\n",
    "            if curr.next is not None:\n",
    "                s += ' -> '\n",
    "            curr = curr.next\n",
    "        return s\n",
    "\n",
    "\n",
    "    def getAt(self, pos):\n",
    "        if pos < 1 or pos > self.nodeCount:\n",
    "            return None\n",
    "\n",
    "        i = 1\n",
    "        curr = self.head\n",
    "        while i < pos:\n",
    "            curr = curr.next\n",
    "            i += 1\n",
    "\n",
    "        return curr\n",
    "\n",
    "\n",
    "    def insertAt(self, pos, newNode):\n",
    "        if pos < 1 or pos > self.nodeCount + 1:\n",
    "            return False\n",
    "\n",
    "        if pos == 1:\n",
    "            newNode.next = self.head\n",
    "            self.head = newNode\n",
    "\n",
    "        else:\n",
    "            if pos == self.nodeCount + 1:\n",
    "                prev = self.tail\n",
    "            else:\n",
    "                prev = self.getAt(pos - 1)\n",
    "            newNode.next = prev.next\n",
    "            prev.next = newNode\n",
    "\n",
    "        if pos == self.nodeCount + 1:\n",
    "            self.tail = newNode\n",
    "\n",
    "        self.nodeCount += 1\n",
    "        return True\n",
    "\n",
    "\n",
    "    def getLength(self):\n",
    "        return self.nodeCount\n",
    "\n",
    "\n",
    "    def traverse(self):\n",
    "        result = []\n",
    "        curr = self.head\n",
    "        while curr is not None:\n",
    "            result.append(curr.data)\n",
    "            curr = curr.next\n",
    "        return result\n",
    "\n",
    "\n",
    "    def concat(self, L):\n",
    "        self.tail.next = L.head\n",
    "        if L.tail:\n",
    "            self.tail = L.tail\n",
    "        self.nodeCount += L.nodeCount\n"
   ]
  },
  {
   "cell_type": "code",
   "execution_count": 27,
   "id": "8efff564-c5c1-4d3d-98c3-148acf4a8e91",
   "metadata": {},
   "outputs": [],
   "source": [
    "a = Node(67)\n",
    "b = Node(34)\n",
    "c = Node(28)\n",
    "L = LinkedList()\n",
    "\n"
   ]
  },
  {
   "cell_type": "code",
   "execution_count": 28,
   "id": "ce0446a5-d5db-46b9-b7af-046cdb4c295c",
   "metadata": {},
   "outputs": [
    {
     "data": {
      "text/plain": [
       "True"
      ]
     },
     "execution_count": 28,
     "metadata": {},
     "output_type": "execute_result"
    }
   ],
   "source": [
    "L.insertAt(1, a)"
   ]
  },
  {
   "cell_type": "code",
   "execution_count": 29,
   "id": "9f5c739c-3c92-403d-9aa6-cbd57b4b137f",
   "metadata": {},
   "outputs": [
    {
     "data": {
      "text/plain": [
       "True"
      ]
     },
     "execution_count": 29,
     "metadata": {},
     "output_type": "execute_result"
    }
   ],
   "source": [
    "L.insertAt(2,b)"
   ]
  },
  {
   "cell_type": "code",
   "execution_count": 30,
   "id": "03beea23-c53b-41a8-b19e-1478a5a8dd9f",
   "metadata": {},
   "outputs": [
    {
     "data": {
      "text/plain": [
       "67 -> 34"
      ]
     },
     "execution_count": 30,
     "metadata": {},
     "output_type": "execute_result"
    }
   ],
   "source": [
    "L"
   ]
  },
  {
   "cell_type": "code",
   "execution_count": 31,
   "id": "1f34b81e-0d8a-427a-ae22-2ce0ff8a4570",
   "metadata": {},
   "outputs": [
    {
     "data": {
      "text/plain": [
       "True"
      ]
     },
     "execution_count": 31,
     "metadata": {},
     "output_type": "execute_result"
    }
   ],
   "source": [
    "L.insertAt(1,c)"
   ]
  },
  {
   "cell_type": "code",
   "execution_count": 32,
   "id": "fb60e45a-a274-4e1b-b3a4-25a2dbc919f6",
   "metadata": {},
   "outputs": [
    {
     "data": {
      "text/plain": [
       "28 -> 67 -> 34"
      ]
     },
     "execution_count": 32,
     "metadata": {},
     "output_type": "execute_result"
    }
   ],
   "source": [
    "L"
   ]
  },
  {
   "cell_type": "code",
   "execution_count": null,
   "id": "18578331-6099-4cc3-a0b1-7664713ac582",
   "metadata": {},
   "outputs": [],
   "source": []
  },
  {
   "cell_type": "code",
   "execution_count": null,
   "id": "f7760a72-9a6c-4283-9111-506a78d77e19",
   "metadata": {},
   "outputs": [],
   "source": []
  },
  {
   "cell_type": "code",
   "execution_count": null,
   "id": "1051c8b0-5d90-4434-87fb-d40b0a9abc25",
   "metadata": {},
   "outputs": [],
   "source": []
  },
  {
   "cell_type": "code",
   "execution_count": 33,
   "id": "20f392ce-be68-4a8c-b519-920d2323e48f",
   "metadata": {},
   "outputs": [],
   "source": [
    "class Node:\n",
    "\n",
    "    def __init__(self, item):\n",
    "        self.data = item\n",
    "        self.next = None\n",
    "\n",
    "\n",
    "class LinkedList:\n",
    "\n",
    "    def __init__(self):\n",
    "        self.nodeCount = 0\n",
    "        self.head = None\n",
    "        self.tail = None\n",
    "\n",
    "    def __repr__(self):\n",
    "        if self.nodeCount == 0:\n",
    "            return 'LinkedList: empty'\n",
    "\n",
    "        s = ''\n",
    "        curr = self.head\n",
    "        while curr is not None:\n",
    "            s += repr(curr.data)\n",
    "            if curr.next is not None:\n",
    "                s += ' -> '\n",
    "            curr = curr.next\n",
    "        return s\n",
    "\n",
    "    def getAt(self, pos):\n",
    "        if pos < 1 or pos > self.nodeCount:\n",
    "            return None\n",
    "\n",
    "        i = 1\n",
    "        curr = self.head\n",
    "        while i < pos:\n",
    "            curr = curr.next\n",
    "            i += 1\n",
    "\n",
    "        return curr\n",
    "\n",
    "\n",
    "    def insertAt(self, pos, newNode):\n",
    "        if pos < 1 or pos > self.nodeCount + 1:\n",
    "            return False\n",
    "\n",
    "        if pos == 1:\n",
    "            newNode.next = self.head\n",
    "            self.head = newNode\n",
    "\n",
    "        else:\n",
    "            if pos == self.nodeCount + 1:\n",
    "                prev = self.tail\n",
    "            else:\n",
    "                prev = self.getAt(pos - 1)\n",
    "            newNode.next = prev.next\n",
    "            prev.next = newNode\n",
    "\n",
    "        if pos == self.nodeCount + 1:\n",
    "            self.tail = newNode\n",
    "\n",
    "        self.nodeCount += 1\n",
    "        return True\n",
    "\n",
    "\n",
    "\n",
    "    def popAt(self, pos):\n",
    "        if pos < 1 or pos > self.nodeCount + 1:\n",
    "            raise IndexError\n",
    "        \n",
    "        # 특이사항1.\n",
    "        # 유일한 노드를 삭제할 때\n",
    "        if self.nodeCount == 1 :\n",
    "            curr = self.head\n",
    "            self.head = curr.next\n",
    "            self.tail = self.head\n",
    "        # 특이사항2.\n",
    "        # 맨 처음에 있는 값을 제거해야 할 경우\n",
    "        elif pos == 1 :\n",
    "            curr = self.head\n",
    "            self.head = curr.next\n",
    "            \n",
    "        # 일반적인 상황\n",
    "        else :\n",
    "            prev = self.getAt(pos-1)\n",
    "            curr = prev.next\n",
    "            # 특이사항3\n",
    "            # 맨 뒤에있는 값을 제거해야 할 경우     \n",
    "            if pos == self.nodeCount :\n",
    "                self.tail = prev\n",
    "                \n",
    "            prev.next = curr.next\n",
    "        \n",
    "        self.nodeCount -= 1\n",
    "        return curr.data\n",
    "\n",
    "        \n",
    "\n",
    "        \n",
    "        \n",
    "\n",
    "\n",
    "\n",
    "\n",
    "    def traverse(self):\n",
    "        result = []\n",
    "        curr = self.head\n",
    "        while curr is not None:\n",
    "            result.append(curr.data)\n",
    "            curr = curr.next\n",
    "        return result\n",
    "\n",
    "\n",
    "def solution(x):\n",
    "    return 0"
   ]
  },
  {
   "cell_type": "code",
   "execution_count": 34,
   "id": "8c86bb56-cf13-4e6a-aeb4-7394a6dca4ad",
   "metadata": {},
   "outputs": [],
   "source": [
    "a = Node(67)"
   ]
  },
  {
   "cell_type": "code",
   "execution_count": 35,
   "id": "cebe233c-6955-492e-a03d-67c55a1a8494",
   "metadata": {},
   "outputs": [],
   "source": [
    "b = Node(34)\n"
   ]
  },
  {
   "cell_type": "code",
   "execution_count": 36,
   "id": "b19e71e2-7324-4af2-9f66-29f2bc1b790d",
   "metadata": {},
   "outputs": [],
   "source": [
    "c = Node(28)\n"
   ]
  },
  {
   "cell_type": "code",
   "execution_count": 37,
   "id": "3d5a59d7-07c0-43a9-bb6e-7f6cf4d8d7b7",
   "metadata": {},
   "outputs": [],
   "source": [
    "L = LinkedList()\n",
    "\n"
   ]
  },
  {
   "cell_type": "code",
   "execution_count": 38,
   "id": "cec5baff-cf5c-4bc9-9efe-b35d93cfd43c",
   "metadata": {},
   "outputs": [
    {
     "data": {
      "text/plain": [
       "True"
      ]
     },
     "execution_count": 38,
     "metadata": {},
     "output_type": "execute_result"
    }
   ],
   "source": [
    "\n",
    "L.insertAt(1, a)\n"
   ]
  },
  {
   "cell_type": "code",
   "execution_count": 17,
   "id": "52d2eb75-b48e-4dff-a075-13694a907707",
   "metadata": {},
   "outputs": [
    {
     "data": {
      "text/plain": [
       "True"
      ]
     },
     "execution_count": 17,
     "metadata": {},
     "output_type": "execute_result"
    }
   ],
   "source": [
    "L.insertAt(2,b)\n"
   ]
  },
  {
   "cell_type": "code",
   "execution_count": 18,
   "id": "82da0fc2-5674-4c96-8a7f-daf9fae23acf",
   "metadata": {},
   "outputs": [
    {
     "data": {
      "text/plain": [
       "True"
      ]
     },
     "execution_count": 18,
     "metadata": {},
     "output_type": "execute_result"
    }
   ],
   "source": [
    "L.insertAt(1,c)"
   ]
  },
  {
   "cell_type": "code",
   "execution_count": 19,
   "id": "29be5a80-67d5-48a9-af46-aba3f84e2185",
   "metadata": {},
   "outputs": [
    {
     "data": {
      "text/plain": [
       "28 -> 67 -> 34"
      ]
     },
     "execution_count": 19,
     "metadata": {},
     "output_type": "execute_result"
    }
   ],
   "source": [
    "L"
   ]
  },
  {
   "cell_type": "code",
   "execution_count": 20,
   "id": "e9ee44b0-116c-4902-a17d-046b5016f4f0",
   "metadata": {},
   "outputs": [
    {
     "data": {
      "text/plain": [
       "28"
      ]
     },
     "execution_count": 20,
     "metadata": {},
     "output_type": "execute_result"
    }
   ],
   "source": [
    "L.popAt(1)"
   ]
  },
  {
   "cell_type": "code",
   "execution_count": 21,
   "id": "23c6b894-9931-4115-b29f-5f4bf4008972",
   "metadata": {},
   "outputs": [
    {
     "data": {
      "text/plain": [
       "67 -> 34"
      ]
     },
     "execution_count": 21,
     "metadata": {},
     "output_type": "execute_result"
    }
   ],
   "source": [
    "L"
   ]
  },
  {
   "cell_type": "code",
   "execution_count": 22,
   "id": "e0c5e16c-3730-4008-8fdc-5152600c990a",
   "metadata": {},
   "outputs": [
    {
     "data": {
      "text/plain": [
       "67"
      ]
     },
     "execution_count": 22,
     "metadata": {},
     "output_type": "execute_result"
    }
   ],
   "source": [
    "L.popAt(1)"
   ]
  },
  {
   "cell_type": "code",
   "execution_count": 23,
   "id": "abae7e42-b113-440c-8f64-d4c2bb97e329",
   "metadata": {},
   "outputs": [
    {
     "data": {
      "text/plain": [
       "34"
      ]
     },
     "execution_count": 23,
     "metadata": {},
     "output_type": "execute_result"
    }
   ],
   "source": [
    "L"
   ]
  },
  {
   "cell_type": "code",
   "execution_count": 24,
   "id": "9b5cbc0a-00b9-478b-97a3-8998f9550c79",
   "metadata": {},
   "outputs": [
    {
     "data": {
      "text/plain": [
       "34"
      ]
     },
     "execution_count": 24,
     "metadata": {},
     "output_type": "execute_result"
    }
   ],
   "source": [
    "L.popAt(1)"
   ]
  },
  {
   "cell_type": "code",
   "execution_count": 25,
   "id": "3bc0a0eb-6302-4619-89dc-1d139534b1d1",
   "metadata": {},
   "outputs": [
    {
     "data": {
      "text/plain": [
       "LinkedList: empty"
      ]
     },
     "execution_count": 25,
     "metadata": {},
     "output_type": "execute_result"
    }
   ],
   "source": [
    "L"
   ]
  },
  {
   "cell_type": "code",
   "execution_count": null,
   "id": "11c3c515-96bc-44bc-8b58-952abaadd392",
   "metadata": {},
   "outputs": [],
   "source": []
  },
  {
   "cell_type": "code",
   "execution_count": null,
   "id": "c0fff1b2-5b1e-43fb-aa63-9fb4bdace74c",
   "metadata": {},
   "outputs": [],
   "source": []
  }
 ],
 "metadata": {
  "kernelspec": {
   "display_name": "Python 3 (ipykernel)",
   "language": "python",
   "name": "python3"
  },
  "language_info": {
   "codemirror_mode": {
    "name": "ipython",
    "version": 3
   },
   "file_extension": ".py",
   "mimetype": "text/x-python",
   "name": "python",
   "nbconvert_exporter": "python",
   "pygments_lexer": "ipython3",
   "version": "3.9.12"
  }
 },
 "nbformat": 4,
 "nbformat_minor": 5
}
